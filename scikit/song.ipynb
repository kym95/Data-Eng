{
 "cells": [
  {
   "cell_type": "code",
   "execution_count": 1,
   "id": "13aa7264-bb34-46d0-8d30-b1c059b2166e",
   "metadata": {},
   "outputs": [],
   "source": [
    "import pandas as pd\n",
    "import matplotlib\n",
    "import sys\n",
    "import numpy.random as np\n",
    "import matplotlib.pyplot as plt\n",
    "\n",
    "%matplotlib inline"
   ]
  },
  {
   "cell_type": "code",
   "execution_count": 2,
   "id": "be4a1e57-24bc-4771-9771-60049500e8cf",
   "metadata": {},
   "outputs": [],
   "source": [
    "# https://scikit-learn.org/stable/modules/tree.html#tree-algorithms-id3-c4-5-c5-0-and-cart\n",
    "# https://scikit-learn.org/stable/modules/tree.html#tree\n",
    "df = pd.read_csv('songs.csv')"
   ]
  },
  {
   "cell_type": "code",
   "execution_count": 3,
   "id": "602b013f-8758-4c0d-abcd-03a931e158f4",
   "metadata": {},
   "outputs": [],
   "source": [
    "X = df[['year', 'length', 'commas', 'exclamations', 'colons', 'hyphens']]\n",
    "Y = df['artist']"
   ]
  },
  {
   "cell_type": "code",
   "execution_count": 4,
   "id": "6eab334a-801d-4b7d-b031-8b70f79ce79f",
   "metadata": {},
   "outputs": [],
   "source": [
    "from sklearn.model_selection import train_test_split\n",
    "\n",
    "X_train, X_test, Y_train, Y_test = train_test_split(X, Y, test_size=0.25, random_state=31)"
   ]
  },
  {
   "cell_type": "code",
   "execution_count": 5,
   "id": "a43a1763-c609-4c6d-af21-cc804c281465",
   "metadata": {},
   "outputs": [],
   "source": [
    "# f1_score > 0.85\n",
    "from sklearn.metrics import f1_score"
   ]
  },
  {
   "cell_type": "code",
   "execution_count": 33,
   "id": "272e8d25-e242-4a26-9555-056a38c1e890",
   "metadata": {},
   "outputs": [
    {
     "name": "stdout",
     "output_type": "stream",
     "text": [
      "0.6333333333333333\n",
      "1\n",
      "0.7444444444444445\n",
      "2\n",
      "0.8111111111111111\n",
      "3\n",
      "0.8111111111111111\n",
      "4\n",
      "0.8222222222222222\n",
      "5\n"
     ]
    }
   ],
   "source": [
    "from sklearn.metrics import recall_score\n",
    "from sklearn.metrics import precision_score\n",
    "from sklearn.tree import DecisionTreeClassifier\n",
    "\n",
    "precision = 0\n",
    "recall = 0\n",
    "f1 = 0\n",
    "depth = 1\n",
    "#while recall < 0.821:\n",
    "while f1 < 0.822:\n",
    "    dt = DecisionTreeClassifier(class_weight='balanced', min_samples_split=32,  max_depth=depth)\n",
    "    clf = dt.fit(X_train, Y_train)\n",
    "    y_pred = dt.predict(X_test)\n",
    "    f1 = f1_score(Y_test, y_pred, average='micro')\n",
    "    print(f1)\n",
    "    print(depth)\n",
    "    depth+=1"
   ]
  },
  {
   "cell_type": "code",
   "execution_count": 34,
   "id": "ca3bfac3-3707-4035-8403-903b4085ad12",
   "metadata": {},
   "outputs": [
    {
     "data": {
      "text/plain": [
       "array([[21,  5,  2],\n",
       "       [ 5, 20,  1],\n",
       "       [ 3,  0, 33]], dtype=int64)"
      ]
     },
     "execution_count": 34,
     "metadata": {},
     "output_type": "execute_result"
    }
   ],
   "source": [
    "from sklearn.metrics import confusion_matrix, ConfusionMatrixDisplay\n",
    "\n",
    "cm = confusion_matrix(Y_test, y_pred)\n",
    "\n",
    "cm"
   ]
  },
  {
   "cell_type": "code",
   "execution_count": 35,
   "id": "ed591188-e403-461c-91d5-afa3b96c35fc",
   "metadata": {
    "scrolled": true
   },
   "outputs": [
    {
     "data": {
      "text/plain": [
       "<sklearn.metrics._plot.confusion_matrix.ConfusionMatrixDisplay at 0x2d222dd0>"
      ]
     },
     "execution_count": 35,
     "metadata": {},
     "output_type": "execute_result"
    },
    {
     "data": {
      "image/png": "[encoded data removed]",
      "text/plain": [
       "<Figure size 640x480 with 2 Axes>"
      ]
     },
     "metadata": {},
     "output_type": "display_data"
    }
   ],
   "source": [
    "disp = ConfusionMatrixDisplay(confusion_matrix=cm)\n",
    "disp.plot()"
   ]
  },
  {
   "cell_type": "code",
   "execution_count": 23,
   "id": "246efd44-c2fd-4c2b-afda-845d4784d4f7",
   "metadata": {},
   "outputs": [
    {
     "name": "stdout",
     "output_type": "stream",
     "text": [
      "CPU times: total: 58.1 s\n",
      "Wall time: 3min 33s\n"
     ]
    }
   ],
   "source": [
    "%%time\n",
    "\n",
    "from sklearn.model_selection import GridSearchCV\n",
    "\n",
    "cls = DecisionTreeClassifier()\n",
    "parameters = {'min_samples_split': range(2,40), 'max_depth': range(1,10), 'criterion': [\"gini\", \"entropy\", \"log_loss\"], 'min_samples_leaf': range(1,10) }\n",
    "\n",
    "search = GridSearchCV(clf, parameters, scoring='f1_micro')\n",
    "search.fit(X, Y)\n",
    "\n",
    "best_tree = search.best_estimator_"
   ]
  },
  {
   "cell_type": "code",
   "execution_count": 24,
   "id": "ac13ef2e-05fd-4835-a3ba-40bf366ba669",
   "metadata": {},
   "outputs": [
    {
     "name": "stdout",
     "output_type": "stream",
     "text": [
      "0.7694444444444445\n",
      "{'criterion': 'entropy', 'max_depth': 6, 'min_samples_leaf': 2, 'min_samples_split': 10}\n"
     ]
    }
   ],
   "source": [
    "print(search.best_score_)\n",
    "print(search.best_params_)"
   ]
  },
  {
   "cell_type": "code",
   "execution_count": 25,
   "id": "d25ed6e8-3ef2-429e-91b9-fd5ef2f05061",
   "metadata": {},
   "outputs": [
    {
     "name": "stdout",
     "output_type": "stream",
     "text": [
      "0.8666666666666667\n"
     ]
    }
   ],
   "source": [
    "y_pred = best_tree.predict(X_test)\n",
    "f1 = f1_score(Y_test, y_pred, average='micro')\n",
    "print(f1)"
   ]
  },
  {
   "cell_type": "code",
   "execution_count": 26,
   "id": "b46a65c3-27aa-49cb-8af3-561d9a858abd",
   "metadata": {},
   "outputs": [
    {
     "name": "stdout",
     "output_type": "stream",
     "text": [
      "CPU times: total: 62.5 ms\n",
      "Wall time: 296 ms\n"
     ]
    }
   ],
   "source": [
    "%%time\n",
    "from sklearn.model_selection import RandomizedSearchCV\n",
    "\n",
    "search = RandomizedSearchCV(clf, parameters, scoring='f1_micro')\n",
    "search.fit(X, Y)\n",
    "\n",
    "best_tree = search.best_estimator_"
   ]
  },
  {
   "cell_type": "code",
   "execution_count": 27,
   "id": "bbdae200-dae6-4c2d-83de-c6336da705dc",
   "metadata": {},
   "outputs": [
    {
     "name": "stdout",
     "output_type": "stream",
     "text": [
      "0.7277777777777779\n",
      "{'min_samples_split': 23, 'min_samples_leaf': 3, 'max_depth': 4, 'criterion': 'log_loss'}\n"
     ]
    }
   ],
   "source": [
    "print(search.best_score_)\n",
    "print(search.best_params_)"
   ]
  },
  {
   "cell_type": "code",
   "execution_count": 28,
   "id": "7ae9ffe5-7447-4f61-98b8-9a21a5b25536",
   "metadata": {},
   "outputs": [
    {
     "name": "stdout",
     "output_type": "stream",
     "text": [
      "0.8333333333333334\n"
     ]
    }
   ],
   "source": [
    "y_pred = best_tree.predict(X_test)\n",
    "f1 = f1_score(Y_test, y_pred, average='micro')\n",
    "print(f1)"
   ]
  },
  {
   "cell_type": "code",
   "execution_count": null,
   "id": "3480122c-dd26-409f-8f6c-a6830803c7a7",
   "metadata": {},
   "outputs": [],
   "source": []
  }
 ],
 "metadata": {
  "kernelspec": {
   "display_name": "Python 3 (ipykernel)",
   "language": "python",
   "name": "python3"
  },
  "language_info": {
   "codemirror_mode": {
    "name": "ipython",
    "version": 3
   },
   "file_extension": ".py",
   "mimetype": "text/x-python",
   "name": "python",
   "nbconvert_exporter": "python",
   "pygments_lexer": "ipython3",
   "version": "3.10.0"
  }
 },
 "nbformat": 4,
 "nbformat_minor": 5
}
