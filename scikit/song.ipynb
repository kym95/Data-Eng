{
 "cells": [
  {
   "cell_type": "code",
   "execution_count": 1,
   "id": "13aa7264-bb34-46d0-8d30-b1c059b2166e",
   "metadata": {},
   "outputs": [],
   "source": [
    "import pandas as pd\n",
    "import matplotlib\n",
    "import sys\n",
    "import numpy.random as np\n",
    "import matplotlib.pyplot as plt\n",
    "\n",
    "%matplotlib inline"
   ]
  },
  {
   "cell_type": "code",
   "execution_count": 2,
   "id": "be4a1e57-24bc-4771-9771-60049500e8cf",
   "metadata": {},
   "outputs": [],
   "source": [
    "df = pd.read_csv('songs.csv')"
   ]
  },
  {
   "cell_type": "code",
   "execution_count": 3,
   "id": "602b013f-8758-4c0d-abcd-03a931e158f4",
   "metadata": {},
   "outputs": [],
   "source": [
    "X = df[['year', 'length', 'commas', 'exclamations']]\n",
    "Y = df['artist']"
   ]
  },
  {
   "cell_type": "code",
   "execution_count": 4,
   "id": "6eab334a-801d-4b7d-b031-8b70f79ce79f",
   "metadata": {},
   "outputs": [],
   "source": [
    "from sklearn.model_selection import train_test_split\n",
    "\n",
    "X_train, X_test, Y_train, Y_test = train_test_split(X, Y, test_size=0.25, random_state=31)"
   ]
  },
  {
   "cell_type": "code",
   "execution_count": null,
   "id": "a43a1763-c609-4c6d-af21-cc804c281465",
   "metadata": {},
   "outputs": [],
   "source": []
  }
 ],
 "metadata": {
  "kernelspec": {
   "display_name": "Python 3 (ipykernel)",
   "language": "python",
   "name": "python3"
  },
  "language_info": {
   "codemirror_mode": {
    "name": "ipython",
    "version": 3
   },
   "file_extension": ".py",
   "mimetype": "text/x-python",
   "name": "python",
   "nbconvert_exporter": "python",
   "pygments_lexer": "ipython3",
   "version": "3.10.0"
  }
 },
 "nbformat": 4,
 "nbformat_minor": 5
}
